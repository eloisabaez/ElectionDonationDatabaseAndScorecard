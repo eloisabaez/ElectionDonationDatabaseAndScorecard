{
 "cells": [
  {
   "cell_type": "markdown",
   "metadata": {
    "collapsed": true,
    "pycharm": {
     "name": "#%% md\n"
    }
   },
   "source": [
    "# Appmode in Jupyter\n",
    "\n",
    "This page demonstrates how to generate online \"apps\" with a Jupyter Notebook interface. With the `appmode` plugin, we can create interactive experiences without requiring coding or running a specific cell.\n",
    "\n",
    "Markdown cells will be retained, and all code cells will be run, then hidden. The outputs of each cell will be displayed as well.\n",
    "\n",
    "Check out a further example using an [ipyvolume](https://ipyvolume.readthedocs.io/en/latest/) to render a 3D plot: [ipyvolume_demo.ipynb](ipyvolume_demo.ipynb)"
   ]
  },
  {
   "cell_type": "code",
   "execution_count": null,
   "metadata": {
    "pycharm": {
     "is_executing": true,
     "name": "#%%\n"
    }
   },
   "outputs": [],
   "source": [
    "from __future__ import division\n",
    "\n",
    "import pandas as pd\n",
    "\n",
    "bulk_cmte_data_file = './campaign_finance_data/2019-2020_company_to_campaign_bulk_data.txt'\n",
    "columns=['CMTE_ID', 'AMNDT_IND', 'RPT_TP', 'TRANSACTION_PGI', 'IMAGE_NUM', 'TRANSACTION_TP', 'ENTITY_TP', 'NAME', 'CITY', 'STATE', 'ZIP_CODE','EMPLOYER','OCCUPATION','TRANSACTION_DT','TRANSACTION_AMT','OTHER_ID','CAND_ID','TRAN_ID','FILE_NUM','MEMO_CD','MEMO_TEXT','SUB_ID']\n",
    "donations_df = pd.read_csv(bulk_cmte_data_file, sep=\"|\", header=None, low_memory=False, names=columns)\n",
    "\n",
    "cmte_id_key_file = './campaign_finance_data/2019-2020_company_master.txt'\n",
    "cmte_id_cols=['CMTE_ID', 'CMTE_NM', 'TRES_NM', 'CMTE_ST1', 'CMTE_ST2', 'CMTE_CITY', 'CMTE_ST', 'CMTE_ZIP', 'CMTE_DSGN', 'CMTE_TP', 'CMTE_PTY_AFFILIATION','CMTE_FILING_FREQ','ORG_TP','CONNECTED_ORG_NM','CAND_ID']\n",
    "cmte_df = pd.read_csv(cmte_id_key_file, sep=\"|\", header=None, low_memory=False, names=cmte_id_cols, index_col=0)\n",
    "\n",
    "cand_id_key_file = './campaign_finance_data/2019-2020_candidate_master.txt'\n",
    "cand_id_cols=['CAND_ID', 'CAND_NAME', 'CAND_PTY_AFFILIATION', 'CAND_ELECTION_YR', 'CAND_OFFICE_ST', 'CAND_OFFICE', 'CAND_OFFICE_DISTRICT', 'CAND_ICI', 'CAND_STATUS', 'CAND_PCC', 'CAND_ST1','CAND_ST2','CAND_CITY','CAND_ST','CAND_ZIP']\n",
    "cand_df = pd.read_csv(cand_id_key_file, sep=\"|\", header=None, low_memory=False, names=cand_id_cols, index_col=0)\n",
    "\n",
    "import ipywidgets as ipw\n",
    "\n",
    "cb_input = ipw.Combobox(description='', options=[str(v) for v in cmte_df.CMTE_NM.tolist()], placeholder=\"Start typing here.\")\n",
    "html_output = ipw.HTML()\n",
    "\n",
    "def on_go(btn):\n",
    "    cmte_id_sel = cmte_df.index[cmte_df.CMTE_NM == cb_input.value]\n",
    "    if cmte_id_sel.empty:\n",
    "        # TODO make popup of company not found\n",
    "        return\n",
    "    sc_df = get_scorecard(cmte_id_sel.format()[0])\n",
    "    html_output.value = sc_df.to_html(header=False,columns=['CAND_NAME','TRANSACTION_AMT'],index=False)\n",
    "    #disp_df = sc_df.reindex(columns=['CAND_NAME','TRANSACTION_AMT'])\n",
    "\n",
    "def on_clear(btn):\n",
    "    cb_input.value = ''\n",
    "    html_output.value = ''\n",
    "    \n",
    "def get_scorecard(cmte_id):\n",
    "    cmte_donations_df = donations_df[donations_df.CMTE_ID == cmte_id] # Select all donations where the CMTE_ID == cmte_id_sel\n",
    "\n",
    "    cmte_donations_df = cmte_donations_df.groupby('CAND_ID').TRANSACTION_AMT.sum()   # Sum transactions\n",
    "    cmte_donations_df = pd.DataFrame(cmte_donations_df)\n",
    "    cmte_donations_df = cmte_donations_df.merge(cand_df, how='left', left_index=True, right_index=True, suffixes=('',''))   # Merge candidate data into result\n",
    "    \n",
    "    return cmte_donations_df\n",
    "    \n",
    "\n",
    "go_button = ipw.Button(description='Go!', layout=ipw.Layout(width=\"45px\"))\n",
    "go_button.on_click(on_go)\n",
    "\n",
    "clear_button = ipw.Button(description='Clear', layout=ipw.Layout(width=\"90px\"))\n",
    "clear_button.on_click(on_clear)\n",
    "\n",
    "row1 = ipw.HBox((cb_input, go_button, clear_button))\n",
    "row2 = html_output\n",
    "ipw.VBox((row1, row2))\n",
    "\n"
   ]
  }
 ],
 "metadata": {
  "kernelspec": {
   "name": "python3",
   "language": "python",
   "display_name": "Python 3"
  },
  "language_info": {
   "codemirror_mode": {
    "name": "ipython",
    "version": 3
   },
   "file_extension": ".py",
   "mimetype": "text/x-python",
   "name": "python",
   "nbconvert_exporter": "python",
   "pygments_lexer": "ipython3",
   "version": "3.7.6"
  },
  "pycharm": {
   "stem_cell": {
    "cell_type": "raw",
    "source": [],
    "metadata": {
     "collapsed": false
    }
   }
  }
 },
 "nbformat": 4,
 "nbformat_minor": 1
}