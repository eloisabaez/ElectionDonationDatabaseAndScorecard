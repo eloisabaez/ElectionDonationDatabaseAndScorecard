{
 "cells": [
  {
   "cell_type": "markdown",
   "metadata": {
    "collapsed": true,
    "pycharm": {
     "name": "#%% md\n"
    }
   },
   "source": [
    "# Appmode in Jupyter\n",
    "\n",
    "This page demonstrates how to generate online \"apps\" with a Jupyter Notebook interface. With the `appmode` plugin, we can create interactive experiences without requiring coding or running a specific cell.\n",
    "\n",
    "Markdown cells will be retained, and all code cells will be run, then hidden. The outputs of each cell will be displayed as well.\n",
    "\n",
    "Check out a further example using an [ipyvolume](https://ipyvolume.readthedocs.io/en/latest/) to render a 3D plot: [ipyvolume_demo.ipynb](ipyvolume_demo.ipynb)"
   ]
  },
  {
   "cell_type": "code",
   "execution_count": 1,
   "metadata": {
    "pycharm": {
     "name": "#%%\n",
     "is_executing": false
    }
   },
   "outputs": [
    {
     "data": {
      "text/plain": "HBox(children=(FloatProgress(value=1.0, bar_style='info', max=1.0), HTML(value='')))",
      "application/vnd.jupyter.widget-view+json": {
       "version_major": 2,
       "version_minor": 0,
       "model_id": "3888440f913c4e508a3a9bff9575a133"
      }
     },
     "metadata": {},
     "output_type": "display_data"
    }
   ],
   "source": [
    "from __future__ import division\n",
    "\n",
    "# Load Open FEC data\n",
    "from tqdm.notebook import tqdm\n",
    "pbar = tqdm(leave=False)"
   ]
  },
  {
   "cell_type": "code",
   "execution_count": 2,
   "metadata": {
    "pycharm": {
     "name": "#%%\n",
     "is_executing": false
    }
   },
   "outputs": [
    {
     "name": "stdout",
     "text": [
      "\r"
     ],
     "output_type": "stream"
    }
   ],
   "source": [
    "import pandas as pd\n",
    "\n",
    "def load_df_from_openFEC(zip_url, zip_file, header_url):\n",
    "   \n",
    "    from io import BytesIO  \n",
    "    from urllib.request import urlopen\n",
    "    from zipfile import ZipFile\n",
    "    \n",
    "    columns = []\n",
    "    # Load header data\n",
    "    with urlopen(header_url) as headresp:\n",
    "        df  = pd.read_csv(BytesIO(headresp.read()), sep=',', header=None)\n",
    "        columns = df.iloc[0].to_list()\n",
    "    \n",
    "    # Load contents\n",
    "    with urlopen(zip_url) as zipresp:\n",
    "        with ZipFile(BytesIO(zipresp.read())) as zfile:\n",
    "            df = pd.read_csv(zfile.open(zip_file), sep=\"|\", header=None, low_memory=False, names=columns)\n",
    "            return df\n",
    "\n",
    "pbar.reset(total=3)\n",
    "pbar.set_description(\"Loading datafiles\")\n",
    "\n",
    "donations_df = load_df_from_openFEC(\n",
    "    \"https://www.fec.gov/files/bulk-downloads/2020/pas220.zip\", \"itpas2.txt\",\n",
    "    \"https://www.fec.gov/files/bulk-downloads/data_dictionaries/pas2_header_file.csv\")\n",
    "pbar.update()\n",
    "\n",
    "cmte_df = load_df_from_openFEC(\n",
    "    \"https://www.fec.gov/files/bulk-downloads/2020/cm20.zip\", \"cm.txt\",\n",
    "    \"https://www.fec.gov/files/bulk-downloads/data_dictionaries/cm_header_file.csv\")\n",
    "cmte_df = cmte_df.set_index('CMTE_ID')\n",
    "pbar.update()\n",
    "\n",
    "cand_df = load_df_from_openFEC(\n",
    "    \"https://www.fec.gov/files/bulk-downloads/2020/cn20.zip\", \"cn.txt\",\n",
    "    \"https://www.fec.gov/files/bulk-downloads/data_dictionaries/cn_header_file.csv\")\n",
    "cand_df = cand_df.set_index('CAND_ID')\n",
    "pbar.update()\n",
    "pbar.close()"
   ]
  },
  {
   "cell_type": "code",
   "execution_count": 6,
   "metadata": {
    "pycharm": {
     "is_executing": true,
     "name": "#%%\n"
    }
   },
   "outputs": [
    {
     "data": {
      "application/vnd.jupyter.widget-view+json": {
       "model_id": "9d8c9b663b264bcaa13e64854c4cc566",
       "version_major": 2,
       "version_minor": 0
      },
      "text/plain": [
       "VBox(children=(HBox(children=(Combobox(value='', options=('HALLMARK CARDS PAC', 'AMERICAN MEDICAL ASSOCIATION …"
      ]
     },
     "metadata": {},
     "output_type": "display_data"
    },
    {
     "name": "stdout",
     "output_type": "stream",
     "text": [
      "0\n"
     ]
    }
   ],
   "source": [
    "import ipywidgets as ipw\n",
    "\n",
    "cb_input = ipw.Combobox(description='', options=[str(v) for v in cmte_df.CMTE_NM.tolist()], placeholder=\"Start typing here.\")\n",
    "html_output = ipw.HTML()\n",
    "\n",
    "def on_go(btn):\n",
    "    cmte_id_sel = cmte_df.index[cmte_df.CMTE_NM == cb_input.value]\n",
    "    if cmte_id_sel.empty:\n",
    "        html_output.value = \"PAC not found\"\n",
    "        # TODO make popup of company not found\n",
    "        return\n",
    "    sc_df = get_scorecard(cmte_id_sel.format()[0])\n",
    "    html_output.value = sc_df.to_html(header=False,columns=['CAND_NAME','TRANSACTION_AMT'],index=False)\n",
    "    #disp_df = sc_df.reindex(columns=['CAND_NAME','TRANSACTION_AMT'])\n",
    "\n",
    "def on_clear(btn):\n",
    "    cb_input.value = ''\n",
    "    html_output.value = ''\n",
    "    \n",
    "def get_scorecard(cmte_id):\n",
    "    cmte_donations_df = donations_df[donations_df.CMTE_ID == cmte_id] # Select all donations where the CMTE_ID == cmte_id_sel\n",
    "\n",
    "    cmte_donations_df = cmte_donations_df.groupby('CAND_ID').TRANSACTION_AMT.sum()   # Sum transactions\n",
    "    cmte_donations_df = pd.DataFrame(cmte_donations_df)\n",
    "    cmte_donations_df = cmte_donations_df.merge(cand_df, how='left', left_index=True, right_index=True, suffixes=('',''))   # Merge candidate data into result\n",
    "    \n",
    "    return cmte_donations_df\n",
    "    \n",
    "\n",
    "go_button = ipw.Button(description='Go!', layout=ipw.Layout(width=\"45px\"))\n",
    "go_button.on_click(on_go)\n",
    "\n",
    "clear_button = ipw.Button(description='Clear', layout=ipw.Layout(width=\"90px\"))\n",
    "clear_button.on_click(on_clear)\n",
    "\n",
    "row1 = ipw.HBox((cb_input, go_button, clear_button))\n",
    "row2 = html_output\n",
    "ipw.VBox((row1, row2))"
   ]
  }
 ],
 "metadata": {
  "kernelspec": {
   "display_name": "Python 3",
   "language": "python",
   "name": "python3"
  },
  "language_info": {
   "codemirror_mode": {
    "name": "ipython",
    "version": 3
   },
   "file_extension": ".py",
   "mimetype": "text/x-python",
   "name": "python",
   "nbconvert_exporter": "python",
   "pygments_lexer": "ipython3",
   "version": "3.7.6"
  },
  "pycharm": {
   "stem_cell": {
    "cell_type": "raw",
    "source": [],
    "metadata": {
     "collapsed": false
    }
   }
  }
 },
 "nbformat": 4,
 "nbformat_minor": 1
}